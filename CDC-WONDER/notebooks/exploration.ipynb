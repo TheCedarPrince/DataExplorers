{
  "cells": [
    {
      "cell_type": "markdown",
      "source": [
        "# Initial Set-Up\n\n## Activating Project Environment"
      ],
      "metadata": {}
    },
    {
      "outputs": [],
      "cell_type": "code",
      "source": [
        "using DrWatson\n@quickactivate \"CDC WONDER\""
      ],
      "metadata": {},
      "execution_count": null
    },
    {
      "cell_type": "markdown",
      "source": [
        "## Loading Packages"
      ],
      "metadata": {}
    },
    {
      "outputs": [],
      "cell_type": "code",
      "source": [
        "using CSV\nusing DataFrames\nusing Latexify\nusing PrettyTables\nusing PyPlot\nusing Statistics\nusing TimeSeries\nusing Weave"
      ],
      "metadata": {},
      "execution_count": null
    },
    {
      "cell_type": "markdown",
      "source": [
        "Here is a little run down on what these packages are used for in our analysis:\n\n- [`CSV`](https://github.com/JuliaData/CSV.jl) - Julia's multi-threaded CSV reader\n\n- [`DataFrames`](https://github.com/JuliaData/DataFrames.jl) - Julia's dataframe handler for easily manipulating data\n\n- [`DrWatson`](https://github.com/JuliaDynamics/DrWatson.jl) - Incredibly helpful tool for managing Julia-based scientific experiments and exploration\n\n- [`Latexify`](https://github.com/korsbo/Latexify.jl) - Enables the conversion of Julia objects to other formats such as LaTeX or Markdown\n\n- [`PrettyTables`](https://github.com/ronisbr/PrettyTables.jl) - Printing pretty tables for nice references\n\n- [`PyPlot`](https://github.com/JuliaPy/PyPlot.jl) - Julia interface to the `matplotlib` plotting library\n\n- [`Statistics`](https://github.com/JuliaLang/Statistics.jl) - Julia's standard library for useful statistical methods\n\n- [`TimeSeries`](https://github.com/JuliaStats/TimeSeries.jl) - Package for working with time series data and functions such as moving averages\n\n- [`Weave`](https://github.com/JunoLab/Weave.jl) - Converts Julia Markdown files to other forms of output\n\n# Familiarizing Ourselves with CDC Wonder\n\n## Introduction\n\nWe are using data from the [CDC Wonder Natality](https://wonder.cdc.gov/natality.html) reporting.\nThis data is derived from birth certificates and we are using data from 2007 - 2019.\nSome additional detail on this data:\n\n> Beginning in 2007, data are reported from the the 2003 U.S. standard Certificate of Live Birth.\n> With the implementation of the 2003 U.S. standard Certificate of Live Birth by the states, some data items are not comparable with the previous 1989 revision, resulting in changes to the data items available here.\n> Beginning with year 2007, data for five new birth anomalies are available, and data for five maternal risk factors are no longer available.\n> Beginning with year 2016, data for many additional items (mostly medical and health items) are available; \"bridged-race\" categories are not available in the 2016-2019 (expanded) database.\n\n## Building Our Dataset\n\nIn particular, we formed our dataset from a 2007 - 2019 data request to CDC Wonder where we selected the following measures:\n\n- Birth Rate\n- Average Birth Weight\n\nand grouped these results by \"State\" and \"County\".\nHere, we only selected the state of New York for analysis as well as all the years available and left default ranges for everything else \n\n## Generating Summary Trends\n\n### Pre-Processing Our Data\n\nWhen the data is given to us raw from CDC Wonder, it is not ready for reading into dataframes yet as it contains additional rows and columns that are not in CSV format.\nWe apply the following transformations here:"
      ],
      "metadata": {}
    },
    {
      "outputs": [],
      "cell_type": "code",
      "source": [
        "df = DataFrame(CSV.File(\n    datadir(\"exp_raw\", \"ny_2007_2019.txt\");\n    limit = 29,\n    drop = [\"Notes\"],\n))\nCSV.write(datadir(\"exp_pro\", \"ny_2007_2019_processed.csv\"), df)"
      ],
      "metadata": {},
      "execution_count": null
    },
    {
      "cell_type": "markdown",
      "source": [
        "Per `DrWatson`, we use the `datadir` function to save our processed data to the `exp_pro` directory!\n\n### Loading Our Cleaned Data\n\nNow we are able to load in our cleaned data as a DataFrame as follows:"
      ],
      "metadata": {}
    },
    {
      "outputs": [],
      "cell_type": "code",
      "source": [
        "df =\n    CSV.File(datadir(\"exp_pro\", \"ny_2007_2019_processed.csv\")) |>\n    DataFrame"
      ],
      "metadata": {},
      "execution_count": null
    },
    {
      "cell_type": "markdown",
      "source": [
        "And then we can preview our table using the great `Latexify` package:"
      ],
      "metadata": {}
    },
    {
      "outputs": [],
      "cell_type": "code",
      "source": [
        "latexify(first(df, 3); env = :mdtable, latex = false)"
      ],
      "metadata": {},
      "execution_count": null
    },
    {
      "cell_type": "markdown",
      "source": [
        "### Finding Most Populuous Counties\n\nAs a first dive into our analysis, lets get a sense for some summary values!\nFirst, lets find the most populuous counties in New York!"
      ],
      "metadata": {}
    },
    {
      "outputs": [],
      "cell_type": "code",
      "source": [
        "sort!(df, Symbol(\"Total Population\"), rev = true)\nnames = [\"County\", \"Total Population\"]\ntab = Any[\n    df[1, :County] df[1, Symbol(\"Total Population\")]\n    df[2, :County] df[2, Symbol(\"Total Population\")]\n    df[3, :County] df[3, Symbol(\"Total Population\")]\n    df[4, :County] df[4, Symbol(\"Total Population\")]\n    df[5, :County] df[5, Symbol(\"Total Population\")]\n]\npretty_table(tab; header = names, backend = :html)"
      ],
      "metadata": {},
      "execution_count": null
    },
    {
      "cell_type": "markdown",
      "source": [
        "As you can see, we get a group of counties lumped together in the \"County\" column called \"Unidentified Counties, NY\".\nLet's remove that from our dataframe going forward:"
      ],
      "metadata": {}
    },
    {
      "outputs": [],
      "cell_type": "code",
      "source": [
        "delete!(df, 3)"
      ],
      "metadata": {},
      "execution_count": null
    },
    {
      "cell_type": "markdown",
      "source": [
        "And let's check the county table again:"
      ],
      "metadata": {}
    },
    {
      "outputs": [],
      "cell_type": "code",
      "source": [
        "tab = Any[\n    df[1, :County] df[1, Symbol(\"Total Population\")]\n    df[2, :County] df[2, Symbol(\"Total Population\")]\n    df[3, :County] df[3, Symbol(\"Total Population\")]\n    df[4, :County] df[4, Symbol(\"Total Population\")]\n    df[5, :County] df[5, Symbol(\"Total Population\")]\n]\npretty_table(tab; header = names, backend = :html)"
      ],
      "metadata": {},
      "execution_count": null
    },
    {
      "cell_type": "markdown",
      "source": [
        "Great! Let's move into a bit more of a deeper analysis.\n\n### Finding Counties with the Most Births\n\nAs we are working with natality data, I think it would be wise to see where births are occurring!\nLet's find the top five counties with most births in New York similar to how we found largest populations:"
      ],
      "metadata": {}
    },
    {
      "outputs": [],
      "cell_type": "code",
      "source": [
        "sort!(df, Symbol(\"Births\"), rev = true)\nnames = [\"County\", \"Births\"]\ntab = Any[\n    df[1, :County] df[1, Symbol(\"Births\")]\n    df[2, :County] df[2, Symbol(\"Births\")]\n    df[3, :County] df[3, Symbol(\"Births\")]\n    df[4, :County] df[4, Symbol(\"Births\")]\n    df[5, :County] df[5, Symbol(\"Births\")]\n]\npretty_table(\n    tab;\n    title = \"Counties with Most Births\",\n    title_alignment = :c,\n    header = names,\n    backend = :html,\n)"
      ],
      "metadata": {},
      "execution_count": null
    },
    {
      "cell_type": "markdown",
      "source": [
        "Very similar results to our previous table, but this time, Bronx County jumped up to the third position!\n\n# Final Steps\n\n## Export Julia Markdown Document as Jupyter Notebook"
      ],
      "metadata": {}
    },
    {
      "outputs": [],
      "cell_type": "code",
      "source": [
        "convert_doc(\n    \"exploration.jmd\",\n    projectdir(\"notebooks\", \"exploration.ipynb\"),\n)"
      ],
      "metadata": {},
      "execution_count": null
    },
    {
      "cell_type": "markdown",
      "source": [
        "## Export Julia Markdown Document as an HTML Document"
      ],
      "metadata": {}
    },
    {
      "outputs": [],
      "cell_type": "code",
      "source": [
        "weave(\"exploration.jmd\", \"exploration.html\")"
      ],
      "metadata": {},
      "execution_count": null
    }
  ],
  "nbformat_minor": 2,
  "metadata": {
    "language_info": {
      "file_extension": ".jl",
      "mimetype": "application/julia",
      "name": "julia",
      "version": "1.6.2"
    },
    "kernelspec": {
      "name": "julia-1.6",
      "display_name": "Julia 1.6.2",
      "language": "julia"
    }
  },
  "nbformat": 4
}
